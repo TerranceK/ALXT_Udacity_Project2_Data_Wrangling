{
 "cells": [
  {
   "cell_type": "markdown",
   "id": "5577c8b6",
   "metadata": {},
   "source": [
    "# Data Wrangling Report"
   ]
  },
  {
   "cell_type": "markdown",
   "id": "5c3e01de",
   "metadata": {},
   "source": [
    "## Project Overview and Objective"
   ]
  },
  {
   "cell_type": "markdown",
   "id": "19260b58",
   "metadata": {},
   "source": [
    "The project seeks to exptract data from, explore and analyse data from the twitter archive known as WeRateDogs, which is an account known for comicaly rating people's dogs. The objective is to Wrangle and Store WeRateDogs Twitter data in order to facilitate in the creation interesting, informative, trustworthy and reliable analyses and visualizations."
   ]
  },
  {
   "cell_type": "markdown",
   "id": "f954123d",
   "metadata": {
    "scrolled": true
   },
   "source": [
    "## Step 1: Gather data"
   ]
  },
  {
   "cell_type": "markdown",
   "id": "69bb43f2",
   "metadata": {},
   "source": [
    "This involves gathering the data to be used for the analysis. In this project, 3 files were used:\n",
    "\n",
    "**1. Twitter archive file** (twitter-archive-enhanced.csv) - this file was supplied by the Udacity team.\n",
    "\n",
    "**2. Image predictions file** (image-predictions.tsv) - This file was programmatically downloaded from the provided link `https://d17h27t6h515a5.cloudfront.net/topher/2017/August/599fd2ad_image-predictions/image-predictions.tsv`. It contains image predictions from a neural network, provided by the Udacity team.\n",
    "\n",
    "**3. Twitter data (tweet-json.txt)** - this file contains data in json format. It was supposed to be obtained programatically by querrying the Twitter data using the tweepy API. However, due to challenges creating a Twitter developer account, the developer ended up using a file provided by the Udacity team."
   ]
  },
  {
   "cell_type": "markdown",
   "id": "f17822c8",
   "metadata": {},
   "source": [
    "## Step 2: Assess the data"
   ]
  },
  {
   "cell_type": "markdown",
   "id": "9074b62c",
   "metadata": {},
   "source": [
    "In this step, the aim is to check the data for errors, inconsistencies and other challenges that might hinder analysis steps. The outcome is a list of challenges that need to be resolved, and these are then resolved in the Data Cleaning stage. \n",
    "\n",
    "Two types of assessment were conducted:\n",
    "\n",
    "**1. Visual assessment** - which involves viewing the whole dataset and visually identifying data quality and data tidyness challenges.\n",
    "\n",
    "**2. Programatic assessment** - using simple sumary statistics for the same purpose."
   ]
  },
  {
   "cell_type": "markdown",
   "id": "15150772",
   "metadata": {},
   "source": [
    "## Step 3: Clean the data"
   ]
  },
  {
   "cell_type": "code",
   "execution_count": null,
   "id": "e6236dde",
   "metadata": {},
   "outputs": [],
   "source": []
  },
  {
   "cell_type": "markdown",
   "id": "7c4f57d5",
   "metadata": {},
   "source": [
    "After data assessment, the next step was data cleaning - which involves programatically solving the challenges from the data assessment. The following challenges were recognised in the data:\n",
    "\n",
    "### Data Quality Issues\n",
    "\n",
    "1. missing values `in_reply_to_status_id`, `in_reply_to_user_id`, `retweeted_status_id`, `retweeted_status_user_id`, `retweeted_status_timestamp`\n",
    "2. irrelevant columns (`in_reply_to_status_id`, `in_reply_to_user_id`, `retweeted_status_id`, `retweeted_status_user_id`, `retweeted_status_timestamp`, `expanded_urls`)\n",
    "3. url string in `source`\n",
    "4. no dog stage has been indicated for some dogs\n",
    "5. erroneous data types(`timestamp`)\n",
    "6. some tweets do not have images\n",
    "7. some tweets are retweets\n",
    "8. some tweets have multiple dog stages\n",
    "9. not all values in `p1`, `p2`, and `p3` are dog breeds\n",
    "10. lower case and upper case sometimes in `p1`, `p2`, amd `p3`\n",
    "11. missing records (2354 instead of 2356)\n",
    "\n",
    "### Identified Data Tidiness Issues\n",
    "\n",
    "1. `doggo`, `floofer`, `pupper`, `puppo` should be observations in one column `dog_stage`\n",
    "2. multiple columns each for predictions, confidence level, and breed\n",
    "3. `tweet_id` should be present in `twitter_archive` table \n",
    "4. `favorites`, and `retweets` should be added to the twitter_archive table\n",
    "5. `tweet_id` should be present in `twitter_archive` table \n",
    "\n",
    "#### The following where the resolutions, as necesary:\n",
    "\n",
    "1. Dropping columns with missing data and those with null value in image_num column.\n",
    "2. Changed data types for dates from String to datetime.\n",
    "3. Updating and reformating URL in to correct format.\n",
    "4. Deleting rows in `text` begining with 'RT', and rows that indicated as false in `prediction`.\n",
    "5. Concatenating and reshaping columns, and merging tables.\n",
    "6. Changing case to lowercase.\n",
    "7. Merging three tables to create master dataframe and saving it as twitter_archive_master.\n"
   ]
  },
  {
   "cell_type": "code",
   "execution_count": null,
   "id": "e6e6fea0",
   "metadata": {},
   "outputs": [],
   "source": []
  }
 ],
 "metadata": {
  "kernelspec": {
   "display_name": "Python 3 (ipykernel)",
   "language": "python",
   "name": "python3"
  },
  "language_info": {
   "codemirror_mode": {
    "name": "ipython",
    "version": 3
   },
   "file_extension": ".py",
   "mimetype": "text/x-python",
   "name": "python",
   "nbconvert_exporter": "python",
   "pygments_lexer": "ipython3",
   "version": "3.9.12"
  }
 },
 "nbformat": 4,
 "nbformat_minor": 5
}
